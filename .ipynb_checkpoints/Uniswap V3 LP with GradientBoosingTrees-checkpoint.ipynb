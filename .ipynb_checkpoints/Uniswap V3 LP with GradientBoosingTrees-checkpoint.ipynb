{
 "cells": [
  {
   "cell_type": "code",
   "execution_count": 14,
   "id": "d240712d",
   "metadata": {},
   "outputs": [],
   "source": [
    "import web3 \n",
    "import math\n",
    "from sklearn.datasets import fetch_california_housing\n",
    "import numpy as np \n",
    "import pandas as pd \n",
    "import matplotlib.pyplot as plt \n",
    "from sklearn.ensemble import GradientBoostingRegressor\n",
    "from sklearn.model_selection import RandomizedSearchCV\n",
    "from sklearn.model_selection import train_test_split\n",
    "from sklearn.decomposition import PCA\n",
    "from sklearn.preprocessing import StandardScaler\n",
    "from scipy.stats import randint\n",
    "from sklearn.metrics import r2_score, mean_squared_error\n",
    "import numpy as np \n",
    "import pandas as pd \n",
    "import matplotlib.pyplot as plt \n",
    "from sklearn.ensemble import GradientBoostingRegressor\n",
    "from sklearn.model_selection import RandomizedSearchCV\n",
    "from sklearn.model_selection import train_test_split\n",
    "from sklearn.preprocessing import StandardScaler\n",
    "from scipy.stats import randint\n",
    "from sklearn.metrics import r2_score, mean_squared_error\n",
    "import warnings\n",
    "from UniswapV3TradingFramework import priceToSqrt,V3TraderFramework\n",
    "from position import Position\n",
    "from swap import Swap \n",
    "warnings.filterwarnings('ignore', category=UserWarning)\n",
    "import yfinance as yf \n",
    "import talib \n"
   ]
  },
  {
   "cell_type": "markdown",
   "id": "85122dd2",
   "metadata": {},
   "source": [
    "# WBTC/USDC Pool "
   ]
  },
  {
   "cell_type": "code",
   "execution_count": 15,
   "id": "d9f551c9",
   "metadata": {},
   "outputs": [],
   "source": [
    "pool_address = \"0x99ac8cA7087fA4A2A1FB6357269965A2014ABc35\".lower()\n",
    "fee_tier = 0.003\n",
    "graph_url = \"https://gateway.thegraph.com/api/subgraphs/id/5zvR82QoaXYFyDEKLZ9t6v9adgnptxYpKpSbxtgVENFV\"\n",
    "api_key = \"355571043fb273821d416bb76ef0d85c\"\n",
    "v3_trader = V3TraderFramework(url=graph_url, pool_address = pool_address, poolFeeTier=fee_tier, api_key=api_key)\n",
    "from_time = 1705248000\n",
    "to_time = 1735574400\n"
   ]
  },
  {
   "cell_type": "markdown",
   "id": "eee7ad85",
   "metadata": {},
   "source": [
    "# Data Collection"
   ]
  },
  {
   "cell_type": "code",
   "execution_count": 17,
   "id": "51b30ed8",
   "metadata": {},
   "outputs": [
    {
     "name": "stdout",
     "output_type": "stream",
     "text": [
      "[*********************100%***********************]  1 of 1 completed\n",
      "\n",
      "1 Failed download:\n",
      "- BTC-USDT: No data found for this date range, symbol may be delisted\n"
     ]
    },
    {
     "ename": "Exception",
     "evalue": "inputs are all NaN",
     "output_type": "error",
     "traceback": [
      "\u001b[0;31m---------------------------------------------------------------------------\u001b[0m",
      "\u001b[0;31mException\u001b[0m                                 Traceback (most recent call last)",
      "Cell \u001b[0;32mIn[17], line 3\u001b[0m\n\u001b[1;32m      1\u001b[0m btc_price_data \u001b[38;5;241m=\u001b[39m yf\u001b[38;5;241m.\u001b[39mdownload(\u001b[38;5;124m\"\u001b[39m\u001b[38;5;124mBTC-USDT\u001b[39m\u001b[38;5;124m\"\u001b[39m, start\u001b[38;5;241m=\u001b[39m\u001b[38;5;124m\"\u001b[39m\u001b[38;5;124m2024-01-01\u001b[39m\u001b[38;5;124m\"\u001b[39m, end\u001b[38;5;241m=\u001b[39m\u001b[38;5;124m\"\u001b[39m\u001b[38;5;124m2024-12-31\u001b[39m\u001b[38;5;124m\"\u001b[39m, interval\u001b[38;5;241m=\u001b[39m\u001b[38;5;124m\"\u001b[39m\u001b[38;5;124m1d\u001b[39m\u001b[38;5;124m\"\u001b[39m) \n\u001b[1;32m      2\u001b[0m btc_price_data[\u001b[38;5;124m'\u001b[39m\u001b[38;5;124mReturns\u001b[39m\u001b[38;5;124m'\u001b[39m] \u001b[38;5;241m=\u001b[39m np\u001b[38;5;241m.\u001b[39masarray(btc_price_data[\u001b[38;5;124m'\u001b[39m\u001b[38;5;124mClose\u001b[39m\u001b[38;5;124m'\u001b[39m]\u001b[38;5;241m.\u001b[39mpct_change())\n\u001b[0;32m----> 3\u001b[0m btc_price_data[\u001b[38;5;124m'\u001b[39m\u001b[38;5;124m14 Day RSI\u001b[39m\u001b[38;5;124m'\u001b[39m] \u001b[38;5;241m=\u001b[39m \u001b[43mtalib\u001b[49m\u001b[38;5;241;43m.\u001b[39;49m\u001b[43mRSI\u001b[49m\u001b[43m(\u001b[49m\u001b[43mbtc_price_data\u001b[49m\u001b[43m[\u001b[49m\u001b[38;5;124;43m'\u001b[39;49m\u001b[38;5;124;43mClose\u001b[39;49m\u001b[38;5;124;43m'\u001b[39;49m\u001b[43m]\u001b[49m\u001b[43m,\u001b[49m\u001b[43mtimeperiod\u001b[49m\u001b[38;5;241;43m=\u001b[39;49m\u001b[38;5;241;43m14\u001b[39;49m\u001b[43m)\u001b[49m \n\u001b[1;32m      4\u001b[0m btc_price_data[\u001b[38;5;124m'\u001b[39m\u001b[38;5;124m14 Day ADX\u001b[39m\u001b[38;5;124m'\u001b[39m] \u001b[38;5;241m=\u001b[39m talib\u001b[38;5;241m.\u001b[39mADX(btc_price_data[\u001b[38;5;124m'\u001b[39m\u001b[38;5;124mHigh\u001b[39m\u001b[38;5;124m'\u001b[39m],btc_price_data[\u001b[38;5;124m'\u001b[39m\u001b[38;5;124mLow\u001b[39m\u001b[38;5;124m'\u001b[39m],btc_price_data[\u001b[38;5;124m'\u001b[39m\u001b[38;5;124mClose\u001b[39m\u001b[38;5;124m'\u001b[39m],timeperiod\u001b[38;5;241m=\u001b[39m\u001b[38;5;241m14\u001b[39m) \n\u001b[1;32m      5\u001b[0m btc_price_data[\u001b[38;5;124m'\u001b[39m\u001b[38;5;124m14 Day ROC\u001b[39m\u001b[38;5;124m'\u001b[39m] \u001b[38;5;241m=\u001b[39m talib\u001b[38;5;241m.\u001b[39mROC(btc_price_data[\u001b[38;5;124m'\u001b[39m\u001b[38;5;124mClose\u001b[39m\u001b[38;5;124m'\u001b[39m], timeperiod\u001b[38;5;241m=\u001b[39m\u001b[38;5;241m14\u001b[39m)\n",
      "File \u001b[0;32m~/opt/anaconda3/lib/python3.9/site-packages/talib/__init__.py:35\u001b[0m, in \u001b[0;36m_pandas_wrapper.<locals>.wrapper\u001b[0;34m(*args, **kwargs)\u001b[0m\n\u001b[1;32m     30\u001b[0m args \u001b[38;5;241m=\u001b[39m [arg\u001b[38;5;241m.\u001b[39mvalues\u001b[38;5;241m.\u001b[39mastype(\u001b[38;5;28mfloat\u001b[39m) \u001b[38;5;28;01mif\u001b[39;00m \u001b[38;5;28misinstance\u001b[39m(arg, _pd_Series) \u001b[38;5;28;01melse\u001b[39;00m arg\n\u001b[1;32m     31\u001b[0m         \u001b[38;5;28;01mfor\u001b[39;00m arg \u001b[38;5;129;01min\u001b[39;00m args]\n\u001b[1;32m     32\u001b[0m kwargs \u001b[38;5;241m=\u001b[39m {k: v\u001b[38;5;241m.\u001b[39mvalues\u001b[38;5;241m.\u001b[39mastype(\u001b[38;5;28mfloat\u001b[39m) \u001b[38;5;28;01mif\u001b[39;00m \u001b[38;5;28misinstance\u001b[39m(v, _pd_Series) \u001b[38;5;28;01melse\u001b[39;00m v\n\u001b[1;32m     33\u001b[0m           \u001b[38;5;28;01mfor\u001b[39;00m k, v \u001b[38;5;129;01min\u001b[39;00m kwargs\u001b[38;5;241m.\u001b[39mitems()}\n\u001b[0;32m---> 35\u001b[0m result \u001b[38;5;241m=\u001b[39m \u001b[43mfunc\u001b[49m\u001b[43m(\u001b[49m\u001b[38;5;241;43m*\u001b[39;49m\u001b[43margs\u001b[49m\u001b[43m,\u001b[49m\u001b[43m \u001b[49m\u001b[38;5;241;43m*\u001b[39;49m\u001b[38;5;241;43m*\u001b[39;49m\u001b[43mkwargs\u001b[49m\u001b[43m)\u001b[49m\n\u001b[1;32m     37\u001b[0m \u001b[38;5;66;03m# check to see if we got a streaming result\u001b[39;00m\n\u001b[1;32m     38\u001b[0m first_result \u001b[38;5;241m=\u001b[39m result[\u001b[38;5;241m0\u001b[39m] \u001b[38;5;28;01mif\u001b[39;00m \u001b[38;5;28misinstance\u001b[39m(result, \u001b[38;5;28mtuple\u001b[39m) \u001b[38;5;28;01melse\u001b[39;00m result\n",
      "File \u001b[0;32mtalib/_func.pxi:4364\u001b[0m, in \u001b[0;36mtalib._ta_lib.RSI\u001b[0;34m()\u001b[0m\n",
      "File \u001b[0;32mtalib/_func.pxi:68\u001b[0m, in \u001b[0;36mtalib._ta_lib.check_begidx1\u001b[0;34m()\u001b[0m\n",
      "\u001b[0;31mException\u001b[0m: inputs are all NaN"
     ]
    }
   ],
   "source": [
    "btc_price_data = yf.download(\"BTC-USD\", start=\"2024-01-01\", end=\"2024-12-31\", interval=\"1d\") \n",
    "btc_price_data['Returns'] = np.asarray(btc_price_data['Close'].pct_change())\n",
    "btc_price_data['14 Day RSI'] = talib.RSI(btc_price_data['Close'],timeperiod=14) \n",
    "btc_price_data['14 Day ADX'] = talib.ADX(btc_price_data['High'],btc_price_data['Low'],btc_price_data['Close'],timeperiod=14) \n",
    "btc_price_data['14 Day ROC'] = talib.ROC(btc_price_data['Close'], timeperiod=14)\n",
    "btc_price_data['OBV'] = talib.OBV(btc_price_data['Close'], btc_price_data['Volume'])\n",
    "btc_price_data['14 Day OBV EMA'] = talib.EMA(btc_price_data['OBV'], timeperiod=14)\n",
    "btc_price_data['14 Day SMA'] = talib.SMA(btc_price_data['Close'], timeperiod=14)\n",
    "btc_price_data['14 Day EMA'] = talib.EMA(btc_price_data['Close'], timeperiod=14)\n",
    "\n"
   ]
  },
  {
   "cell_type": "code",
   "execution_count": 4,
   "id": "a33f1cf1",
   "metadata": {},
   "outputs": [
    {
     "data": {
      "text/plain": [
       "-73076.90133"
      ]
     },
     "execution_count": 4,
     "metadata": {},
     "output_type": "execute_result"
    }
   ],
   "source": [
    "swaps = v3_trader.retrieveSwapsData(from_time=from_time, to_time=to_time,batch_size=1, frequency=864000)"
   ]
  },
  {
   "cell_type": "code",
   "execution_count": null,
   "id": "66a6db90",
   "metadata": {},
   "outputs": [],
   "source": []
  }
 ],
 "metadata": {
  "kernelspec": {
   "display_name": "Python 3 (ipykernel)",
   "language": "python",
   "name": "python3"
  },
  "language_info": {
   "codemirror_mode": {
    "name": "ipython",
    "version": 3
   },
   "file_extension": ".py",
   "mimetype": "text/x-python",
   "name": "python",
   "nbconvert_exporter": "python",
   "pygments_lexer": "ipython3",
   "version": "3.9.13"
  }
 },
 "nbformat": 4,
 "nbformat_minor": 5
}
