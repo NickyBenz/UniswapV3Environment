{
 "cells": [
  {
   "cell_type": "code",
   "execution_count": 1,
   "id": "ca578b1a",
   "metadata": {},
   "outputs": [],
   "source": [
    "import web3 \n",
    "import math\n",
    "from sklearn.datasets import fetch_california_housing\n",
    "import numpy as np \n",
    "import pandas as pd \n",
    "import matplotlib.pyplot as plt \n",
    "from sklearn.ensemble import GradientBoostingRegressor\n",
    "from sklearn.model_selection import RandomizedSearchCV\n",
    "from sklearn.model_selection import train_test_split\n",
    "from sklearn.decomposition import PCA\n",
    "from sklearn.preprocessing import StandardScaler\n",
    "from scipy.stats import randint\n",
    "from sklearn.metrics import r2_score, mean_squared_error\n",
    "import numpy as np \n",
    "import pandas as pd \n",
    "import matplotlib.pyplot as plt \n",
    "from sklearn.ensemble import GradientBoostingRegressor\n",
    "from sklearn.model_selection import RandomizedSearchCV\n",
    "from sklearn.model_selection import train_test_split\n",
    "from sklearn.preprocessing import StandardScaler\n",
    "from scipy.stats import randint\n",
    "from sklearn.metrics import r2_score, mean_squared_error\n",
    "import warnings\n",
    "from UniswapV3TradingFramework import priceToSqrt,V3TraderFramework\n",
    "from position import Position\n",
    "from swap import Swap \n",
    "warnings.filterwarnings('ignore', category=UserWarning)"
   ]
  },
  {
   "cell_type": "markdown",
   "id": "e29c7cdc",
   "metadata": {},
   "source": [
    "# WBTC/USDC Pool "
   ]
  },
  {
   "cell_type": "code",
   "execution_count": 6,
   "id": "0307ce87",
   "metadata": {},
   "outputs": [],
   "source": [
    "pool_address = \"0x99ac8cA7087fA4A2A1FB6357269965A2014ABc35\"\n",
    "fee_tier = 0.003\n",
    "graph_url = \"https://gateway.thegraph.com/api/subgraphs/id/5zvR82QoaXYFyDEKLZ9t6v9adgnptxYpKpSbxtgVENFV\"\n",
    "v3_trader = V3TraderFramework(url=graph_url, pool_address = pool_address, poolFeeTier=fee_tier)\n"
   ]
  },
  {
   "cell_type": "code",
   "execution_count": 7,
   "id": "de32ddf8",
   "metadata": {},
   "outputs": [
    {
     "ename": "IndexError",
     "evalue": "list index out of range",
     "output_type": "error",
     "traceback": [
      "\u001b[0;31m---------------------------------------------------------------------------\u001b[0m",
      "\u001b[0;31mIndexError\u001b[0m                                Traceback (most recent call last)",
      "Cell \u001b[0;32mIn[7], line 1\u001b[0m\n\u001b[0;32m----> 1\u001b[0m swaps \u001b[38;5;241m=\u001b[39m \u001b[43mv3_trader\u001b[49m\u001b[38;5;241;43m.\u001b[39;49m\u001b[43mretrieveSwapsData\u001b[49m\u001b[43m(\u001b[49m\u001b[43mfrom_time\u001b[49m\u001b[38;5;241;43m=\u001b[39;49m\u001b[38;5;241;43m1749877200\u001b[39;49m\u001b[43m,\u001b[49m\u001b[43m \u001b[49m\u001b[43mto_time\u001b[49m\u001b[38;5;241;43m=\u001b[39;49m\u001b[38;5;241;43m1749963600\u001b[39;49m\u001b[43m)\u001b[49m\n",
      "File \u001b[0;32m~/Desktop/UniswapV3Environment/UniswapV3Environment/UniswapV3TradingFramework.py:76\u001b[0m, in \u001b[0;36mV3TraderFramework.retrieveSwapsData\u001b[0;34m(self, from_time, to_time, frequency, batch_size)\u001b[0m\n\u001b[1;32m     73\u001b[0m     \u001b[38;5;28;01mexcept\u001b[39;00m \u001b[38;5;167;01mException\u001b[39;00m \u001b[38;5;28;01mas\u001b[39;00m e:\n\u001b[1;32m     74\u001b[0m         \u001b[38;5;28mprint\u001b[39m(e)\n\u001b[0;32m---> 76\u001b[0m curr_price \u001b[38;5;241m=\u001b[39m \u001b[43mswaps\u001b[49m\u001b[43m[\u001b[49m\u001b[38;5;241;43m0\u001b[39;49m\u001b[43m]\u001b[49m[\u001b[38;5;124m'\u001b[39m\u001b[38;5;124msqrtPriceX96\u001b[39m\u001b[38;5;124m'\u001b[39m]\n\u001b[1;32m     77\u001b[0m swap_data \u001b[38;5;241m=\u001b[39m []\n\u001b[1;32m     78\u001b[0m \u001b[38;5;28;01mfor\u001b[39;00m swap \u001b[38;5;129;01min\u001b[39;00m swaps[\u001b[38;5;241m0\u001b[39m:]:\n",
      "\u001b[0;31mIndexError\u001b[0m: list index out of range"
     ]
    }
   ],
   "source": [
    "swaps = v3_trader.retrieveSwapsData(from_time=1749877200, to_time=1749963600)"
   ]
  },
  {
   "cell_type": "code",
   "execution_count": null,
   "id": "57a94488",
   "metadata": {},
   "outputs": [],
   "source": []
  }
 ],
 "metadata": {
  "kernelspec": {
   "display_name": "Python 3 (ipykernel)",
   "language": "python",
   "name": "python3"
  },
  "language_info": {
   "codemirror_mode": {
    "name": "ipython",
    "version": 3
   },
   "file_extension": ".py",
   "mimetype": "text/x-python",
   "name": "python",
   "nbconvert_exporter": "python",
   "pygments_lexer": "ipython3",
   "version": "3.9.13"
  }
 },
 "nbformat": 4,
 "nbformat_minor": 5
}
